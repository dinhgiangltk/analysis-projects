{
 "cells": [
  {
   "cell_type": "code",
   "execution_count": 1,
   "metadata": {},
   "outputs": [],
   "source": [
    "%load_ext autoreload\n",
    "%autoreload 2"
   ]
  },
  {
   "cell_type": "code",
   "execution_count": 2,
   "metadata": {},
   "outputs": [],
   "source": [
    "import pandas as pd\n",
    "\n",
    "from display import DisplayMgr\n",
    "from population import Population, Schedule\n",
    "from algorithm import GeneticAlgorithm"
   ]
  },
  {
   "cell_type": "markdown",
   "metadata": {},
   "source": [
    "- each shift has at least 1 manager / leader\n",
    "- the number of employees is greater than or equal to the threshold in each shift\n",
    "- 1 employee must work at least 22 shifts in a month"
   ]
  },
  {
   "cell_type": "code",
   "execution_count": 6,
   "metadata": {},
   "outputs": [
    {
     "name": "stdout",
     "output_type": "stream",
     "text": [
      "> All Available Data\n",
      "\n",
      "> Employees\n",
      "+--------------+--------------+\n",
      "| employeeCode | jobTitleName |\n",
      "+--------------+--------------+\n",
      "|      E0      |   Manager    |\n",
      "|      E1      |    Leader    |\n",
      "|      E2      |    Leader    |\n",
      "|      E3      |    Staff     |\n",
      "|      E4      |    Staff     |\n",
      "|      E5      |    Staff     |\n",
      "|      E6      |    Staff     |\n",
      "|      E7      |    Staff     |\n",
      "|      E8      |    Staff     |\n",
      "|      E9      |    Staff     |\n",
      "+--------------+--------------+\n",
      "\n",
      "> Shifts Info\n",
      "+-----------+--------------+--------------+\n",
      "| shiftName | minEmployees | maxEmployees |\n",
      "+-----------+--------------+--------------+\n",
      "|   01-MOR  |      5       |      7       |\n",
      "|   01-EVE  |      6       |      8       |\n",
      "|   02-MOR  |      6       |      8       |\n",
      "|   02-EVE  |      7       |      9       |\n",
      "|   03-MOR  |      6       |      8       |\n",
      "|   03-EVE  |      7       |      9       |\n",
      "|   04-MOR  |      5       |      7       |\n",
      "|   04-EVE  |      6       |      8       |\n",
      "|   05-MOR  |      5       |      7       |\n",
      "|   05-EVE  |      6       |      8       |\n",
      "|   06-MOR  |      5       |      7       |\n",
      "|   06-EVE  |      6       |      8       |\n",
      "|   07-MOR  |      5       |      7       |\n",
      "|   07-EVE  |      6       |      8       |\n",
      "|   08-MOR  |      5       |      7       |\n",
      "|   08-EVE  |      6       |      8       |\n",
      "|   09-MOR  |      6       |      8       |\n",
      "|   09-EVE  |      7       |      9       |\n",
      "|   10-MOR  |      6       |      8       |\n",
      "|   10-EVE  |      7       |      9       |\n",
      "|   11-MOR  |      5       |      7       |\n",
      "|   11-EVE  |      6       |      8       |\n",
      "|   12-MOR  |      5       |      7       |\n",
      "|   12-EVE  |      6       |      8       |\n",
      "|   13-MOR  |      5       |      7       |\n",
      "|   13-EVE  |      6       |      8       |\n",
      "|   14-MOR  |      5       |      7       |\n",
      "|   14-EVE  |      6       |      8       |\n",
      "|   15-MOR  |      5       |      7       |\n",
      "|   15-EVE  |      6       |      8       |\n",
      "|   16-MOR  |      6       |      8       |\n",
      "|   16-EVE  |      7       |      9       |\n",
      "|   17-MOR  |      6       |      8       |\n",
      "|   17-EVE  |      7       |      9       |\n",
      "|   18-MOR  |      5       |      7       |\n",
      "|   18-EVE  |      6       |      8       |\n",
      "|   19-MOR  |      5       |      7       |\n",
      "|   19-EVE  |      6       |      8       |\n",
      "|   20-MOR  |      5       |      7       |\n",
      "|   20-EVE  |      6       |      8       |\n",
      "|   21-MOR  |      5       |      7       |\n",
      "|   21-EVE  |      6       |      8       |\n",
      "|   22-MOR  |      5       |      7       |\n",
      "|   22-EVE  |      6       |      8       |\n",
      "|   23-MOR  |      6       |      8       |\n",
      "|   23-EVE  |      7       |      9       |\n",
      "|   24-MOR  |      6       |      8       |\n",
      "|   24-EVE  |      7       |      9       |\n",
      "|   25-MOR  |      5       |      7       |\n",
      "|   25-EVE  |      6       |      8       |\n",
      "|   26-MOR  |      5       |      7       |\n",
      "|   26-EVE  |      6       |      8       |\n",
      "|   27-MOR  |      5       |      7       |\n",
      "|   27-EVE  |      6       |      8       |\n",
      "|   28-MOR  |      5       |      7       |\n",
      "|   28-EVE  |      6       |      8       |\n",
      "|   29-MOR  |      5       |      7       |\n",
      "|   29-EVE  |      6       |      8       |\n",
      "|   30-MOR  |      6       |      8       |\n",
      "|   30-EVE  |      7       |      9       |\n",
      "+-----------+--------------+--------------+\n",
      "\n",
      "> Generation # 0\n"
     ]
    },
    {
     "ename": "AssertionError",
     "evalue": "",
     "output_type": "error",
     "traceback": [
      "\u001b[1;31m---------------------------------------------------------------------------\u001b[0m",
      "\u001b[1;31mAssertionError\u001b[0m                            Traceback (most recent call last)",
      "\u001b[1;32md:\\Repos\\analysis_projects\\genetic_algorithm\\case_workshift_scheduling.ipynb Cell 4\u001b[0m line \u001b[0;36m8\n\u001b[0;32m      <a href='vscode-notebook-cell:/d%3A/Repos/analysis_projects/genetic_algorithm/case_workshift_scheduling.ipynb#W3sZmlsZQ%3D%3D?line=5'>6</a>\u001b[0m population \u001b[39m=\u001b[39m Population()\n\u001b[0;32m      <a href='vscode-notebook-cell:/d%3A/Repos/analysis_projects/genetic_algorithm/case_workshift_scheduling.ipynb#W3sZmlsZQ%3D%3D?line=6'>7</a>\u001b[0m population\u001b[39m.\u001b[39mget_schedules()\u001b[39m.\u001b[39msort(key\u001b[39m=\u001b[39m\u001b[39mlambda\u001b[39;00m x: x\u001b[39m.\u001b[39mget_fitness(), reverse\u001b[39m=\u001b[39m\u001b[39mTrue\u001b[39;00m)\n\u001b[1;32m----> <a href='vscode-notebook-cell:/d%3A/Repos/analysis_projects/genetic_algorithm/case_workshift_scheduling.ipynb#W3sZmlsZQ%3D%3D?line=7'>8</a>\u001b[0m displayMgr\u001b[39m.\u001b[39;49mprint_generation(population)\n\u001b[0;32m      <a href='vscode-notebook-cell:/d%3A/Repos/analysis_projects/genetic_algorithm/case_workshift_scheduling.ipynb#W3sZmlsZQ%3D%3D?line=8'>9</a>\u001b[0m best_schedule \u001b[39m=\u001b[39m population\u001b[39m.\u001b[39mget_schedules()[\u001b[39m0\u001b[39m]\n\u001b[0;32m     <a href='vscode-notebook-cell:/d%3A/Repos/analysis_projects/genetic_algorithm/case_workshift_scheduling.ipynb#W3sZmlsZQ%3D%3D?line=10'>11</a>\u001b[0m \u001b[39massert\u001b[39;00m \u001b[39misinstance\u001b[39m(best_schedule, Schedule)\n",
      "File \u001b[1;32md:\\Repos\\analysis_projects\\genetic_algorithm\\display.py:39\u001b[0m, in \u001b[0;36mDisplayMgr.print_generation\u001b[1;34m(self, population)\u001b[0m\n\u001b[0;32m     37\u001b[0m schedules \u001b[39m=\u001b[39m population\u001b[39m.\u001b[39mget_schedules()\n\u001b[0;32m     38\u001b[0m \u001b[39mfor\u001b[39;00m i, schedule \u001b[39min\u001b[39;00m \u001b[39menumerate\u001b[39m(schedules):\n\u001b[1;32m---> 39\u001b[0m     \u001b[39massert\u001b[39;00m \u001b[39misinstance\u001b[39m(schedule, Schedule)\n\u001b[0;32m     40\u001b[0m     conflicts \u001b[39m=\u001b[39m schedule\u001b[39m.\u001b[39mget_conflicts()\n\u001b[0;32m     41\u001b[0m     table1\u001b[39m.\u001b[39madd_row([\u001b[39mstr\u001b[39m(i), \u001b[39mround\u001b[39m(schedule\u001b[39m.\u001b[39mget_fitness(), \u001b[39m3\u001b[39m), schedule\u001b[39m.\u001b[39mget_numbOfConflicts(), conflicts])\n",
      "\u001b[1;31mAssertionError\u001b[0m: "
     ]
    }
   ],
   "source": [
    "displayMgr = DisplayMgr()\n",
    "displayMgr.print_available_data()\n",
    "generationNumber = 0\n",
    "print('\\n> Generation # ' + str(generationNumber))\n",
    "population = Population()\n",
    "population.get_schedules().sort(key=lambda x: x.get_fitness(), reverse=True)\n",
    "displayMgr.print_generation(population)\n",
    "best_schedule = population.get_schedules()[0]\n",
    "\n",
    "assert isinstance(best_schedule, Schedule)\n",
    "displayMgr.print_schedule_as_table(best_schedule)\n",
    "geneticAlgorithm = GeneticAlgorithm()\n",
    "while best_schedule.get_fitness() != 1.0:\n",
    "    generationNumber += 1\n",
    "    population = geneticAlgorithm.evolve(population)\n",
    "    population.get_schedules().sort(key=lambda x: x.get_fitness(), reverse=True)\n",
    "    print(\"\\n> Generation # \" + str(generationNumber)) \n",
    "    displayMgr.print_generation(population)\n",
    "else:\n",
    "    df_chedule = displayMgr.print_schedule_as_table(best_schedule)\n",
    "print('\\n\\n')"
   ]
  },
  {
   "cell_type": "code",
   "execution_count": 3,
   "metadata": {},
   "outputs": [],
   "source": [
    "population = Population()"
   ]
  },
  {
   "cell_type": "code",
   "execution_count": 4,
   "metadata": {},
   "outputs": [
    {
     "data": {
      "text/plain": [
       "[<population.Schedule at 0x203d5624ca0>,\n",
       " <population.Schedule at 0x203d5624fa0>,\n",
       " <population.Schedule at 0x203f5a0ceb0>,\n",
       " <population.Schedule at 0x203f5a125e0>,\n",
       " <population.Schedule at 0x203f5a16cd0>,\n",
       " <population.Schedule at 0x203f5a1c400>,\n",
       " <population.Schedule at 0x203f5a1faf0>,\n",
       " <population.Schedule at 0x203f5a25220>,\n",
       " <population.Schedule at 0x203f5a28910>,\n",
       " <population.Schedule at 0x203f5a2bfd0>]"
      ]
     },
     "execution_count": 4,
     "metadata": {},
     "output_type": "execute_result"
    }
   ],
   "source": [
    "population.get_schedules()"
   ]
  },
  {
   "cell_type": "code",
   "execution_count": 5,
   "metadata": {},
   "outputs": [],
   "source": [
    "population.get_schedules().sort(key=lambda x: x.get_fitness(), reverse=True)"
   ]
  },
  {
   "cell_type": "code",
   "execution_count": 7,
   "metadata": {},
   "outputs": [
    {
     "name": "stdout",
     "output_type": "stream",
     "text": [
      "+------------+---------+----------------+-------------------+\n",
      "| schedule # | fitness | # of conflicts | conflicts details |\n",
      "+------------+---------+----------------+-------------------+\n",
      "|     0      |  0.125  |       7        |       [3, 4]      |\n",
      "|     1      |  0.111  |       8        |       [3, 5]      |\n",
      "|     2      |  0.111  |       8        |       [5, 3]      |\n",
      "|     3      |   0.1   |       9        |       [5, 4]      |\n",
      "|     4      |  0.091  |       10       |       [5, 5]      |\n",
      "|     5      |  0.083  |       11       |       [4, 7]      |\n",
      "|     6      |  0.077  |       12       |       [7, 5]      |\n",
      "|     7      |  0.077  |       12       |       [5, 7]      |\n",
      "|     8      |  0.071  |       13       |       [6, 7]      |\n",
      "|     9      |  0.062  |       15       |      [13, 2]      |\n",
      "+------------+---------+----------------+-------------------+\n"
     ]
    }
   ],
   "source": [
    "displayMgr = DisplayMgr()\n",
    "displayMgr.print_generation(population)"
   ]
  }
 ],
 "metadata": {
  "kernelspec": {
   "display_name": "Python 3",
   "language": "python",
   "name": "python3"
  },
  "language_info": {
   "codemirror_mode": {
    "name": "ipython",
    "version": 3
   },
   "file_extension": ".py",
   "mimetype": "text/x-python",
   "name": "python",
   "nbconvert_exporter": "python",
   "pygments_lexer": "ipython3",
   "version": "3.9.6"
  }
 },
 "nbformat": 4,
 "nbformat_minor": 2
}
