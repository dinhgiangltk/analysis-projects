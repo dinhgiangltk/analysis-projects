{
 "cells": [
  {
   "cell_type": "code",
   "execution_count": 2,
   "metadata": {},
   "outputs": [],
   "source": [
    "from zipfile import ZipFile\n",
    "import pandas as pd\n",
    "import io"
   ]
  },
  {
   "cell_type": "code",
   "execution_count": 3,
   "metadata": {},
   "outputs": [],
   "source": [
    "product_hierarchy = pd.read_csv('/home/tdjiang/github/stored_data/retail_sales_data/product_hierarchy.csv')\n",
    "store_cities = pd.read_csv('/home/tdjiang/github/stored_data/retail_sales_data/store_cities.csv')\n",
    "\n",
    "sales_zip = ZipFile('/home/tdjiang/github/stored_data/retail_sales_data/sales.csv.zip', 'r')\n",
    "sales_data = sales_zip.read('sales.csv')\n",
    "sales_bytes = io.BytesIO(sales_data)\n",
    "sales_bytes.seek(0)\n",
    "sales = pd.read_csv(sales_bytes, converters={'promo_bin_1':str,'promo_bin_2':str,'promo_discount_type_2':str})"
   ]
  },
  {
   "cell_type": "code",
   "execution_count": 14,
   "metadata": {},
   "outputs": [
    {
     "data": {
      "text/plain": [
       "Index(['product_id', 'store_id', 'date', 'sales', 'revenue', 'stock', 'price',\n",
       "       'promo_type_1', 'promo_bin_1', 'promo_type_2', 'promo_bin_2',\n",
       "       'promo_discount_2', 'promo_discount_type_2'],\n",
       "      dtype='object')"
      ]
     },
     "execution_count": 14,
     "metadata": {},
     "output_type": "execute_result"
    }
   ],
   "source": [
    "sales.columns"
   ]
  },
  {
   "cell_type": "code",
   "execution_count": 13,
   "metadata": {},
   "outputs": [
    {
     "data": {
      "text/plain": [
       "promo_type_2  promo_bin_2  promo_discount_2  promo_discount_type_2\n",
       "PR03                       0.0                                        19395757\n",
       "PR02          verylow      16.0              PR02                        10679\n",
       "              low          25.0              PR02                         9900\n",
       "              verylow      20.0              PR02                         8920\n",
       "PR04          high         33.0              PR01                         6833\n",
       "PR02          verylow      20.0              PR04                         5971\n",
       "PR01          veryhigh     50.0              PR03                         4478\n",
       "PR02          verylow      10.0              PR02                         2999\n",
       "              high         35.0              PR01                         1943\n",
       "PR01          veryhigh     50.0              PR01                         1826\n",
       "PR02          low          22.0              PR01                         1517\n",
       "              verylow      16.0              PR01                          834\n",
       "PR04          veryhigh     50.0              PR01                          796\n",
       "PR02          high         33.0              PR01                          754\n",
       "PR04          verylow      20.0              PR02                          686\n",
       "PR02          verylow      19.0              PR01                          488\n",
       "PR01          high         40.0              PR03                          457\n",
       "Name: count, dtype: int64"
      ]
     },
     "execution_count": 13,
     "metadata": {},
     "output_type": "execute_result"
    }
   ],
   "source": [
    "sales[['promo_type_2','promo_bin_2','promo_discount_2','promo_discount_type_2']].fillna(0).value_counts()"
   ]
  }
 ],
 "metadata": {
  "kernelspec": {
   "display_name": "Python 3",
   "language": "python",
   "name": "python3"
  },
  "language_info": {
   "codemirror_mode": {
    "name": "ipython",
    "version": 3
   },
   "file_extension": ".py",
   "mimetype": "text/x-python",
   "name": "python",
   "nbconvert_exporter": "python",
   "pygments_lexer": "ipython3",
   "version": "3.9.17"
  },
  "orig_nbformat": 4,
  "vscode": {
   "interpreter": {
    "hash": "f9f85f796d01129d0dd105a088854619f454435301f6ffec2fea96ecbd9be4ac"
   }
  }
 },
 "nbformat": 4,
 "nbformat_minor": 2
}
