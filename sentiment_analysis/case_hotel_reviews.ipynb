{
 "cells": [
  {
   "attachments": {},
   "cell_type": "markdown",
   "metadata": {},
   "source": [
    "### references\n",
    "- aspect based sentiment analysis: https://github.com/ScalaConsultants/Aspect-Based-Sentiment-Analysis"
   ]
  },
  {
   "attachments": {},
   "cell_type": "markdown",
   "metadata": {},
   "source": [
    "### import packages"
   ]
  },
  {
   "cell_type": "code",
   "execution_count": 1,
   "metadata": {},
   "outputs": [
    {
     "name": "stderr",
     "output_type": "stream",
     "text": [
      "2023-08-23 17:04:18.160390: W tensorflow/stream_executor/platform/default/dso_loader.cc:64] Could not load dynamic library 'libcudart.so.11.0'; dlerror: libcudart.so.11.0: cannot open shared object file: No such file or directory\n",
      "2023-08-23 17:04:18.160444: I tensorflow/stream_executor/cuda/cudart_stub.cc:29] Ignore above cudart dlerror if you do not have a GPU set up on your machine.\n",
      "2023-08-23 17:04:22.659293: W tensorflow/stream_executor/platform/default/dso_loader.cc:64] Could not load dynamic library 'libcuda.so.1'; dlerror: libcuda.so.1: cannot open shared object file: No such file or directory\n",
      "2023-08-23 17:04:22.659378: W tensorflow/stream_executor/cuda/cuda_driver.cc:326] failed call to cuInit: UNKNOWN ERROR (303)\n",
      "2023-08-23 17:04:22.659409: I tensorflow/stream_executor/cuda/cuda_diagnostics.cc:156] kernel driver does not appear to be running on this host (CID-GiangTD13): /proc/driver/nvidia/version does not exist\n",
      "2023-08-23 17:04:22.661701: I tensorflow/core/platform/cpu_feature_guard.cc:142] This TensorFlow binary is optimized with oneAPI Deep Neural Network Library (oneDNN) to use the following CPU instructions in performance-critical operations:  AVX2 FMA\n",
      "To enable them in other operations, rebuild TensorFlow with the appropriate compiler flags.\n",
      "Some layers from the model checkpoint at absa/classifier-rest-0.2 were not used when initializing BertABSClassifier: ['dropout_379']\n",
      "- This IS expected if you are initializing BertABSClassifier from the checkpoint of a model trained on another task or with another architecture (e.g. initializing a BertForSequenceClassification model from a BertForPreTraining model).\n",
      "- This IS NOT expected if you are initializing BertABSClassifier from the checkpoint of a model that you expect to be exactly identical (initializing a BertForSequenceClassification model from a BertForSequenceClassification model).\n",
      "Some layers of BertABSClassifier were not initialized from the model checkpoint at absa/classifier-rest-0.2 and are newly initialized: ['dropout_37']\n",
      "You should probably TRAIN this model on a down-stream task to be able to use it for predictions and inference.\n"
     ]
    }
   ],
   "source": [
    "from utils import data_scraping, absa_english_text\n",
    "import pandas as pd\n",
    "import os\n",
    "\n",
    "import warnings\n",
    "warnings.filterwarnings('ignore')"
   ]
  },
  {
   "attachments": {},
   "cell_type": "markdown",
   "metadata": {},
   "source": [
    "### read & transform data"
   ]
  },
  {
   "cell_type": "code",
   "execution_count": 2,
   "metadata": {},
   "outputs": [],
   "source": [
    "# read data\n",
    "file_name = 'data_the_grace_dalat_reviews.csv'\n",
    "if os.path.exists(file_name):\n",
    "    df = pd.read_csv(file_name, converters={'profileId':str})\n",
    "    eval_cols = ['travelPurpose','travelKeywords','photoDataDisplaysList','reactionSummaries']\n",
    "    df[eval_cols] = df[eval_cols].applymap(lambda x: eval(x) if isinstance(x, str) else x)\n",
    "else:\n",
    "    data = data_scraping(url_hotel=\"https://www.traveloka.com/vi-vn/hotel/vietnam/the-grace-hotel-dalat-3000010042556\", reviews_per_page=10)\n",
    "    df = data.get_all_reviews()\n",
    "    df.to_csv(file_name, index=False)"
   ]
  },
  {
   "cell_type": "code",
   "execution_count": 3,
   "metadata": {},
   "outputs": [],
   "source": [
    "# replace empty data to blank data\n",
    "df = df.mask(df == '')\n",
    "\n",
    "# drop columns with no data\n",
    "df = df.dropna(axis=1, how='all')\n",
    "\n",
    "# add new columns\n",
    "df['travelPurposeText'] = df.travelPurpose.apply(lambda x: x['travelPurposeText'] if isinstance(x, dict) else x)\n",
    "df['travelPurpose'] = df.travelPurpose.apply(lambda x: x['travelPurpose'] if isinstance(x, dict) else x)\n",
    "df['travelKeywords'] = df.travelKeywords.apply(lambda x: ','.join(sorted(map(lambda y: y['travelKeyword'] if isinstance(y, dict) else '', x))) if isinstance(x, list) else x)\n",
    "df['reviewLikes'] = df.reactionSummaries.apply(lambda x: x['reactionSummaryMap']['LIKE']['reactionCount'] if isinstance(x, dict) else x)\n",
    "df['photoCategories'] = df.photoDataDisplaysList.apply(lambda x: ','.join(sorted(map(lambda y: y['photoCategoryDisplay']['photoCategory'] if isinstance(y, dict) else '', x))) if isinstance(x, list) else x)"
   ]
  },
  {
   "cell_type": "code",
   "execution_count": 4,
   "metadata": {},
   "outputs": [
    {
     "name": "stdout",
     "output_type": "stream",
     "text": [
      "--- 0\n",
      "--- 1\n",
      "--- 2\n",
      "--- 3\n",
      "--- 4\n",
      "--- 5\n",
      "--- 6\n",
      "--- 7\n",
      "--- 8\n",
      "--- 9\n",
      "--- 10\n",
      "--- 11\n",
      "--- 12\n",
      "--- 13\n",
      "--- 14\n"
     ]
    }
   ],
   "source": [
    "output = []\n",
    "for id, row in enumerate(df.to_dict(orient='records')[:15]):\n",
    "    reviewTextFn = ''\n",
    "    absa_class = absa_english_text(row['originalReviewText'])\n",
    "    if row['translated']:\n",
    "        reviewTextFn = row['reviewText']\n",
    "    else:\n",
    "        tokenized = absa_class.words_tokenized()\n",
    "        reviewTextFn = absa_class.translate_vi_to_en(tokenized)\n",
    "    \n",
    "    sentiments = absa_class.absa_by_np(reviewTextFn)\n",
    "    output.append({\n",
    "        'reviewId': row['reviewId'],\n",
    "        'sentiment':sentiments\n",
    "    })\n",
    "    print('---', id)"
   ]
  },
  {
   "cell_type": "code",
   "execution_count": 20,
   "metadata": {},
   "outputs": [
    {
     "data": {
      "text/plain": [
       "[1, 1, 1, 1, 1]"
      ]
     },
     "execution_count": 20,
     "metadata": {},
     "output_type": "execute_result"
    }
   ],
   "source": [
    "[1] * 5"
   ]
  },
  {
   "cell_type": "code",
   "execution_count": 27,
   "metadata": {},
   "outputs": [],
   "source": [
    "df_output = pd.DataFrame(output)\n",
    "df_output['sentiment'] = df_output.apply(lambda x: pd.DataFrame(x.sentiment).assign(reviewId = x.reviewId) , axis=1)\n",
    "df_output = pd.concat(df_output.sentiment.tolist())"
   ]
  },
  {
   "cell_type": "code",
   "execution_count": 37,
   "metadata": {},
   "outputs": [
    {
     "data": {
      "text/plain": [
       "[' Clean room, friendly, enthusiastic staff. Late check out surcharge 30% of room rate (12pm-4pm)',\n",
       " \"Enthusiastic reception, rent a scooter 120k, calculated according to the rental hour, if I rent a car from 12 o'clock, it will be charged for half a day. Lock the room with a magnetic card. The plus point is early check-in at no extra charge. The minus point is that the soundproofing is not good, hearing echoes from other rooms. The room has 2 standard free bottles of water per day with tea and coffee. Strong hot water, glass-walled bathroom.\",\n",
       " \"Enthusiastic reception, rent a scooter 120k, calculated according to the rental hour, if I rent a car from 12 o'clock, it will be charged for half a day. Lock the room with a magnetic card. The plus point is early check-in at no extra charge. The minus point is that the soundproofing is not good, hearing echoes from other rooms. The room has 2 standard free bottles of water per day with tea and coffee. Strong hot water, glass-walled bathroom.\",\n",
       " \"Enthusiastic reception, rent a scooter 120k, calculated according to the rental hour, if I rent a car from 12 o'clock, it will be charged for half a day. Lock the room with a magnetic card. The plus point is early check-in at no extra charge. The minus point is that the soundproofing is not good, hearing echoes from other rooms. The room has 2 standard free bottles of water per day with tea and coffee. Strong hot water, glass-walled bathroom.\",\n",
       " \"Enthusiastic reception, rent a scooter 120k, calculated according to the rental hour, if I rent a car from 12 o'clock, it will be charged for half a day. Lock the room with a magnetic card. The plus point is early check-in at no extra charge. The minus point is that the soundproofing is not good, hearing echoes from other rooms. The room has 2 standard free bottles of water per day with tea and coffee. Strong hot water, glass-walled bathroom.\",\n",
       " \"Enthusiastic reception, rent a scooter 120k, calculated according to the rental hour, if I rent a car from 12 o'clock, it will be charged for half a day. Lock the room with a magnetic card. The plus point is early check-in at no extra charge. The minus point is that the soundproofing is not good, hearing echoes from other rooms. The room has 2 standard free bottles of water per day with tea and coffee. Strong hot water, glass-walled bathroom.\",\n",
       " \"Enthusiastic reception, rent a scooter 120k, calculated according to the rental hour, if I rent a car from 12 o'clock, it will be charged for half a day. Lock the room with a magnetic card. The plus point is early check-in at no extra charge. The minus point is that the soundproofing is not good, hearing echoes from other rooms. The room has 2 standard free bottles of water per day with tea and coffee. Strong hot water, glass-walled bathroom.\",\n",
       " \"Enthusiastic reception, rent a scooter 120k, calculated according to the rental hour, if I rent a car from 12 o'clock, it will be charged for half a day. Lock the room with a magnetic card. The plus point is early check-in at no extra charge. The minus point is that the soundproofing is not good, hearing echoes from other rooms. The room has 2 standard free bottles of water per day with tea and coffee. Strong hot water, glass-walled bathroom.\",\n",
       " 'Friendly staff, close to the center, clean room. But the downside, the room is not soundproof, can clearly hear the loud outside. Having a door card (do not disturb + request to clean the room) is better.',\n",
       " 'Friendly staff, close to the center, clean room. But the downside, the room is not soundproof, can clearly hear the loud outside. Having a door card (do not disturb + request to clean the room) is better.',\n",
       " 'Friendly staff, close to the center, clean room. But the downside, the room is not soundproof, can clearly hear the loud outside. Having a door card (do not disturb + request to clean the room) is better.']"
      ]
     },
     "execution_count": 37,
     "metadata": {},
     "output_type": "execute_result"
    }
   ],
   "source": [
    "df_output.query(\"sentiment=='negative'\").text.tolist()"
   ]
  },
  {
   "cell_type": "code",
   "execution_count": 38,
   "metadata": {},
   "outputs": [
    {
     "data": {
      "text/html": [
       "<div>\n",
       "<style scoped>\n",
       "    .dataframe tbody tr th:only-of-type {\n",
       "        vertical-align: middle;\n",
       "    }\n",
       "\n",
       "    .dataframe tbody tr th {\n",
       "        vertical-align: top;\n",
       "    }\n",
       "\n",
       "    .dataframe thead th {\n",
       "        text-align: right;\n",
       "    }\n",
       "</style>\n",
       "<table border=\"1\" class=\"dataframe\">\n",
       "  <thead>\n",
       "    <tr style=\"text-align: right;\">\n",
       "      <th></th>\n",
       "      <th>text</th>\n",
       "      <th>aspect</th>\n",
       "      <th>sentiment</th>\n",
       "      <th>neu_score</th>\n",
       "      <th>neg_score</th>\n",
       "      <th>pos_score</th>\n",
       "      <th>reviewId</th>\n",
       "    </tr>\n",
       "  </thead>\n",
       "  <tbody>\n",
       "    <tr>\n",
       "      <th>2</th>\n",
       "      <td>Clean room, friendly, enthusiastic staff. Lat...</td>\n",
       "      <td>surcharge</td>\n",
       "      <td>negative</td>\n",
       "      <td>0.093093</td>\n",
       "      <td>0.849673</td>\n",
       "      <td>0.057234</td>\n",
       "      <td>126414680</td>\n",
       "    </tr>\n",
       "    <tr>\n",
       "      <th>0</th>\n",
       "      <td>Enthusiastic reception, rent a scooter 120k, c...</td>\n",
       "      <td>reception</td>\n",
       "      <td>negative</td>\n",
       "      <td>0.142583</td>\n",
       "      <td>0.546848</td>\n",
       "      <td>0.310569</td>\n",
       "      <td>126150640</td>\n",
       "    </tr>\n",
       "    <tr>\n",
       "      <th>1</th>\n",
       "      <td>Enthusiastic reception, rent a scooter 120k, c...</td>\n",
       "      <td>scooter</td>\n",
       "      <td>negative</td>\n",
       "      <td>0.086209</td>\n",
       "      <td>0.843920</td>\n",
       "      <td>0.069871</td>\n",
       "      <td>126150640</td>\n",
       "    </tr>\n",
       "    <tr>\n",
       "      <th>2</th>\n",
       "      <td>Enthusiastic reception, rent a scooter 120k, c...</td>\n",
       "      <td>120k</td>\n",
       "      <td>negative</td>\n",
       "      <td>0.272433</td>\n",
       "      <td>0.625860</td>\n",
       "      <td>0.101707</td>\n",
       "      <td>126150640</td>\n",
       "    </tr>\n",
       "    <tr>\n",
       "      <th>3</th>\n",
       "      <td>Enthusiastic reception, rent a scooter 120k, c...</td>\n",
       "      <td>hour</td>\n",
       "      <td>negative</td>\n",
       "      <td>0.485034</td>\n",
       "      <td>0.496180</td>\n",
       "      <td>0.018786</td>\n",
       "      <td>126150640</td>\n",
       "    </tr>\n",
       "    <tr>\n",
       "      <th>4</th>\n",
       "      <td>Enthusiastic reception, rent a scooter 120k, c...</td>\n",
       "      <td>car</td>\n",
       "      <td>negative</td>\n",
       "      <td>0.183335</td>\n",
       "      <td>0.753425</td>\n",
       "      <td>0.063240</td>\n",
       "      <td>126150640</td>\n",
       "    </tr>\n",
       "    <tr>\n",
       "      <th>14</th>\n",
       "      <td>Enthusiastic reception, rent a scooter 120k, c...</td>\n",
       "      <td>soundproofing</td>\n",
       "      <td>negative</td>\n",
       "      <td>0.001935</td>\n",
       "      <td>0.987775</td>\n",
       "      <td>0.010291</td>\n",
       "      <td>126150640</td>\n",
       "    </tr>\n",
       "    <tr>\n",
       "      <th>15</th>\n",
       "      <td>Enthusiastic reception, rent a scooter 120k, c...</td>\n",
       "      <td>hearing</td>\n",
       "      <td>negative</td>\n",
       "      <td>0.001440</td>\n",
       "      <td>0.989121</td>\n",
       "      <td>0.009439</td>\n",
       "      <td>126150640</td>\n",
       "    </tr>\n",
       "    <tr>\n",
       "      <th>2</th>\n",
       "      <td>Friendly staff, close to the center, clean roo...</td>\n",
       "      <td>room</td>\n",
       "      <td>negative</td>\n",
       "      <td>0.072778</td>\n",
       "      <td>0.728857</td>\n",
       "      <td>0.198365</td>\n",
       "      <td>126384376</td>\n",
       "    </tr>\n",
       "    <tr>\n",
       "      <th>4</th>\n",
       "      <td>Friendly staff, close to the center, clean roo...</td>\n",
       "      <td>outside</td>\n",
       "      <td>negative</td>\n",
       "      <td>0.006470</td>\n",
       "      <td>0.987551</td>\n",
       "      <td>0.005979</td>\n",
       "      <td>126384376</td>\n",
       "    </tr>\n",
       "    <tr>\n",
       "      <th>5</th>\n",
       "      <td>Friendly staff, close to the center, clean roo...</td>\n",
       "      <td>door</td>\n",
       "      <td>negative</td>\n",
       "      <td>0.040620</td>\n",
       "      <td>0.909803</td>\n",
       "      <td>0.049577</td>\n",
       "      <td>126384376</td>\n",
       "    </tr>\n",
       "  </tbody>\n",
       "</table>\n",
       "</div>"
      ],
      "text/plain": [
       "                                                 text         aspect  \\\n",
       "2    Clean room, friendly, enthusiastic staff. Lat...      surcharge   \n",
       "0   Enthusiastic reception, rent a scooter 120k, c...      reception   \n",
       "1   Enthusiastic reception, rent a scooter 120k, c...        scooter   \n",
       "2   Enthusiastic reception, rent a scooter 120k, c...           120k   \n",
       "3   Enthusiastic reception, rent a scooter 120k, c...           hour   \n",
       "4   Enthusiastic reception, rent a scooter 120k, c...            car   \n",
       "14  Enthusiastic reception, rent a scooter 120k, c...  soundproofing   \n",
       "15  Enthusiastic reception, rent a scooter 120k, c...        hearing   \n",
       "2   Friendly staff, close to the center, clean roo...           room   \n",
       "4   Friendly staff, close to the center, clean roo...        outside   \n",
       "5   Friendly staff, close to the center, clean roo...           door   \n",
       "\n",
       "   sentiment  neu_score  neg_score  pos_score   reviewId  \n",
       "2   negative   0.093093   0.849673   0.057234  126414680  \n",
       "0   negative   0.142583   0.546848   0.310569  126150640  \n",
       "1   negative   0.086209   0.843920   0.069871  126150640  \n",
       "2   negative   0.272433   0.625860   0.101707  126150640  \n",
       "3   negative   0.485034   0.496180   0.018786  126150640  \n",
       "4   negative   0.183335   0.753425   0.063240  126150640  \n",
       "14  negative   0.001935   0.987775   0.010291  126150640  \n",
       "15  negative   0.001440   0.989121   0.009439  126150640  \n",
       "2   negative   0.072778   0.728857   0.198365  126384376  \n",
       "4   negative   0.006470   0.987551   0.005979  126384376  \n",
       "5   negative   0.040620   0.909803   0.049577  126384376  "
      ]
     },
     "execution_count": 38,
     "metadata": {},
     "output_type": "execute_result"
    }
   ],
   "source": [
    "df_output.query(\"sentiment=='negative'\")"
   ]
  }
 ],
 "metadata": {
  "kernelspec": {
   "display_name": "Python 3",
   "language": "python",
   "name": "python3"
  },
  "language_info": {
   "codemirror_mode": {
    "name": "ipython",
    "version": 3
   },
   "file_extension": ".py",
   "mimetype": "text/x-python",
   "name": "python",
   "nbconvert_exporter": "python",
   "pygments_lexer": "ipython3",
   "version": "3.7.17"
  },
  "orig_nbformat": 4,
  "vscode": {
   "interpreter": {
    "hash": "fd69f43f58546b570e94fd7eba7b65e6bcc7a5bbc4eab0408017d18902915d69"
   }
  }
 },
 "nbformat": 4,
 "nbformat_minor": 2
}
