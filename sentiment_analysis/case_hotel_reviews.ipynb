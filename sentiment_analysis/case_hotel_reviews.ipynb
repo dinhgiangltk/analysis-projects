{
 "cells": [
  {
   "attachments": {},
   "cell_type": "markdown",
   "metadata": {},
   "source": [
    "### import packages"
   ]
  },
  {
   "cell_type": "code",
   "execution_count": 3,
   "metadata": {},
   "outputs": [],
   "source": [
    "import pandas as pd\n",
    "import requests\n",
    "import json"
   ]
  },
  {
   "attachments": {},
   "cell_type": "markdown",
   "metadata": {},
   "source": [
    "### data scraping"
   ]
  },
  {
   "cell_type": "code",
   "execution_count": 79,
   "metadata": {},
   "outputs": [],
   "source": [
    "response = requests.get('https://www.traveloka.com/vi-vn/hotel/vietnam/muong-thanh-luxury-phu-quoc-hotel-3000010030791')\n",
    "response_cookie = dict(response.headers)['Set-Cookie']\n",
    "cookie = response_cookie.replace(', tv', ';tv')"
   ]
  },
  {
   "cell_type": "code",
   "execution_count": 100,
   "metadata": {},
   "outputs": [],
   "source": [
    "url = \"https://www.traveloka.com/api/v2/hotel/getHotelReviews\"\n",
    "\n",
    "payload = json.dumps({\n",
    "  \"fields\": [],\n",
    "  \"data\": {\n",
    "    \"filterSortSpec\": {\n",
    "      \"travelTheme\": None,\n",
    "      \"travelType\": None,\n",
    "      \"sortType\": \"HELPFULNESS\",\n",
    "      \"tagIds\": []\n",
    "    },\n",
    "    \"hotelReviewFilterClientSpec\": {\n",
    "      \"hasPhotos\": False\n",
    "    },\n",
    "    \"hotelReviewSortClientSpec\": {\n",
    "      \"sortType\": \"HELPFULNESS\"\n",
    "    },\n",
    "    \"ascending\": True,\n",
    "    \"reviewLanguage\": \"ENGLISH\",\n",
    "    \"hotelId\": \"3000010030791\",\n",
    "    \"skip\": 0,\n",
    "    \"top\": 1000\n",
    "  },\n",
    "  \"clientInterface\": \"desktop\"\n",
    "})\n",
    "headers = {\n",
    "  'content-type': 'application/json',\n",
    "  'origin': 'https://www.traveloka.com',\n",
    "  'user-agent': 'Mozilla/5.0 (Windows NT 10.0; Win64; x64) AppleWebKit/537.36 (KHTML, like Gecko) Chrome/115.0.0.0 Safari/537.36 Edg/115.0.1901.203',\n",
    "  'x-domain': 'accomContent',\n",
    "  'Cookie': cookie\n",
    "}\n",
    "\n",
    "response = requests.request(\"POST\", url, headers=headers, data=payload)\n",
    "\n",
    "data = response.json()\n"
   ]
  },
  {
   "cell_type": "code",
   "execution_count": 101,
   "metadata": {},
   "outputs": [
    {
     "data": {
      "text/plain": [
       "dict_keys(['featuredTagList', 'reviewList', 'tagList', 'aggregateInfo', 'numReviews', 'numReviewsWithText', 'reviewLanguages', 'userProfiles', 'sharePrefilledText', 'locationLabel', 'filterOptions'])"
      ]
     },
     "execution_count": 101,
     "metadata": {},
     "output_type": "execute_result"
    }
   ],
   "source": [
    "data['data'].keys()"
   ]
  },
  {
   "cell_type": "code",
   "execution_count": 103,
   "metadata": {},
   "outputs": [
    {
     "data": {
      "text/plain": [
       "(35, 32)"
      ]
     },
     "execution_count": 103,
     "metadata": {},
     "output_type": "execute_result"
    }
   ],
   "source": [
    "pd.DataFrame(data['data']['reviewList']).shape"
   ]
  }
 ],
 "metadata": {
  "kernelspec": {
   "display_name": "Python 3",
   "language": "python",
   "name": "python3"
  },
  "language_info": {
   "codemirror_mode": {
    "name": "ipython",
    "version": 3
   },
   "file_extension": ".py",
   "mimetype": "text/x-python",
   "name": "python",
   "nbconvert_exporter": "python",
   "pygments_lexer": "ipython3",
   "version": "3.9.17"
  },
  "orig_nbformat": 4,
  "vscode": {
   "interpreter": {
    "hash": "f9f85f796d01129d0dd105a088854619f454435301f6ffec2fea96ecbd9be4ac"
   }
  }
 },
 "nbformat": 4,
 "nbformat_minor": 2
}
