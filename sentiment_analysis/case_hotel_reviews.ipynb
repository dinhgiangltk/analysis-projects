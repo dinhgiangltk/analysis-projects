{
 "cells": [
  {
   "attachments": {},
   "cell_type": "markdown",
   "metadata": {},
   "source": [
    "### import packages"
   ]
  },
  {
   "cell_type": "code",
   "execution_count": 1,
   "metadata": {},
   "outputs": [
    {
     "name": "stderr",
     "output_type": "stream",
     "text": [
      "2023-08-22 11:57:45.536389: I tensorflow/tsl/cuda/cudart_stub.cc:28] Could not find cuda drivers on your machine, GPU will not be used.\n",
      "2023-08-22 11:57:45.580999: I tensorflow/tsl/cuda/cudart_stub.cc:28] Could not find cuda drivers on your machine, GPU will not be used.\n",
      "2023-08-22 11:57:45.582104: I tensorflow/core/platform/cpu_feature_guard.cc:182] This TensorFlow binary is optimized to use available CPU instructions in performance-critical operations.\n",
      "To enable the following instructions: AVX2 FMA, in other operations, rebuild TensorFlow with the appropriate compiler flags.\n",
      "2023-08-22 11:57:46.321570: W tensorflow/compiler/tf2tensorrt/utils/py_utils.cc:38] TF-TRT Warning: Could not find TensorRT\n",
      "/home/tdjiang/.local/lib/python3.9/site-packages/tqdm/auto.py:21: TqdmWarning: IProgress not found. Please update jupyter and ipywidgets. See https://ipywidgets.readthedocs.io/en/stable/user_install.html\n",
      "  from .autonotebook import tqdm as notebook_tqdm\n"
     ]
    }
   ],
   "source": [
    "from utils import data_scraping\n",
    "import pandas as pd\n",
    "import os\n",
    "from googletrans import Translator #googletrans==4.0.0rc1\n",
    "import aspect_based_sentiment_analysis as absa #aspect-based-sentiment-analysis\n",
    "import spacy"
   ]
  },
  {
   "attachments": {},
   "cell_type": "markdown",
   "metadata": {},
   "source": [
    "### read & transform data"
   ]
  },
  {
   "cell_type": "code",
   "execution_count": 187,
   "metadata": {},
   "outputs": [],
   "source": [
    "# read data\n",
    "file_name = 'data_the_grace_dalat_reviews.csv'\n",
    "if os.path.exists(file_name):\n",
    "    the_grace_dalat_reviews = pd.read_csv(file_name, converters={'profileId':str})\n",
    "    the_grace_dalat_reviews[['travelPurpose','travelKeywords','photoDataDisplaysList','reactionSummaries']] = the_grace_dalat_reviews[['travelPurpose','travelKeywords','photoDataDisplaysList','reactionSummaries']].applymap(lambda x: eval(x) if isinstance(x, str) else x)\n",
    "else:\n",
    "    the_grace_dalat_scraping = data_scraping(url_hotel=\"https://www.traveloka.com/vi-vn/hotel/vietnam/the-grace-hotel-dalat-3000010042556\", reviews_per_page=10)\n",
    "    the_grace_dalat_reviews = the_grace_dalat_scraping.get_all_reviews()\n",
    "    the_grace_dalat_reviews.to_csv(file_name, index=False)"
   ]
  },
  {
   "cell_type": "code",
   "execution_count": 188,
   "metadata": {},
   "outputs": [],
   "source": [
    "# replace empty data to blank data\n",
    "the_grace_dalat_reviews = the_grace_dalat_reviews.mask(the_grace_dalat_reviews == '')\n",
    "\n",
    "# drop columns with no data\n",
    "the_grace_dalat_reviews = the_grace_dalat_reviews.dropna(axis=1, how='all')\n",
    "\n",
    "# add new columns\n",
    "the_grace_dalat_reviews['travelPurposeText'] = the_grace_dalat_reviews.travelPurpose.apply(lambda x: x['travelPurposeText'] if isinstance(x, dict) else x)\n",
    "the_grace_dalat_reviews['travelPurpose'] = the_grace_dalat_reviews.travelPurpose.apply(lambda x: x['travelPurpose'] if isinstance(x, dict) else x)\n",
    "the_grace_dalat_reviews['travelKeywords'] = the_grace_dalat_reviews.travelKeywords.apply(lambda x: ','.join(sorted(map(lambda y: y['travelKeyword'] if isinstance(y, dict) else '', x))) if isinstance(x, list) else x)\n",
    "the_grace_dalat_reviews['reviewLikes'] = the_grace_dalat_reviews.reactionSummaries.apply(lambda x: x['reactionSummaryMap']['LIKE']['reactionCount'] if isinstance(x, dict) else x)\n",
    "the_grace_dalat_reviews['photoCategories'] = the_grace_dalat_reviews.photoDataDisplaysList.apply(lambda x: ','.join(sorted(map(lambda y: y['photoCategoryDisplay']['photoCategory'] if isinstance(y, dict) else '', x))) if isinstance(x, list) else x)"
   ]
  },
  {
   "cell_type": "code",
   "execution_count": 190,
   "metadata": {},
   "outputs": [
    {
     "data": {
      "text/html": [
       "<div>\n",
       "<style scoped>\n",
       "    .dataframe tbody tr th:only-of-type {\n",
       "        vertical-align: middle;\n",
       "    }\n",
       "\n",
       "    .dataframe tbody tr th {\n",
       "        vertical-align: top;\n",
       "    }\n",
       "\n",
       "    .dataframe thead th {\n",
       "        text-align: right;\n",
       "    }\n",
       "</style>\n",
       "<table border=\"1\" class=\"dataframe\">\n",
       "  <thead>\n",
       "    <tr style=\"text-align: right;\">\n",
       "      <th></th>\n",
       "      <th>reviewId</th>\n",
       "      <th>timestamp</th>\n",
       "      <th>profileId</th>\n",
       "      <th>reviewerName</th>\n",
       "      <th>overallScore</th>\n",
       "      <th>cleanlinessScore</th>\n",
       "      <th>comfortScore</th>\n",
       "      <th>serviceScore</th>\n",
       "      <th>foodScore</th>\n",
       "      <th>locationScore</th>\n",
       "      <th>originalReviewText</th>\n",
       "      <th>reviewText</th>\n",
       "      <th>travelThemeDisplayName</th>\n",
       "      <th>travelPurpose</th>\n",
       "      <th>travelKeywords</th>\n",
       "      <th>language</th>\n",
       "      <th>translated</th>\n",
       "      <th>reviewLikes</th>\n",
       "      <th>photoCategories</th>\n",
       "      <th>travelPurposeText</th>\n",
       "    </tr>\n",
       "  </thead>\n",
       "  <tbody>\n",
       "    <tr>\n",
       "      <th>0</th>\n",
       "      <td>127452257</td>\n",
       "      <td>1684722833270</td>\n",
       "      <td>224137865</td>\n",
       "      <td>Hoang N.</td>\n",
       "      <td>9.7</td>\n",
       "      <td>10.0</td>\n",
       "      <td>10.0</td>\n",
       "      <td>10.0</td>\n",
       "      <td>NaN</td>\n",
       "      <td>10.0</td>\n",
       "      <td>Khách sạn rất xinh , vượt ngoài mong đợi của m...</td>\n",
       "      <td>The hotel is very beautiful, beyond my expecta...</td>\n",
       "      <td>Liburan</td>\n",
       "      <td>LEISURE</td>\n",
       "      <td>FRIENDS</td>\n",
       "      <td>ENGLISH</td>\n",
       "      <td>True</td>\n",
       "      <td>2</td>\n",
       "      <td>BEDROOM,BEDROOM</td>\n",
       "      <td>Liburan</td>\n",
       "    </tr>\n",
       "    <tr>\n",
       "      <th>1</th>\n",
       "      <td>126831568</td>\n",
       "      <td>1660817392070</td>\n",
       "      <td>247430533</td>\n",
       "      <td>Thuy Q. N.</td>\n",
       "      <td>9.7</td>\n",
       "      <td>10.0</td>\n",
       "      <td>10.0</td>\n",
       "      <td>8.0</td>\n",
       "      <td>10.0</td>\n",
       "      <td>10.0</td>\n",
       "      <td>Phòng ốc sạch sẽ đầy đủ tiện nghi đáng để lưu trú</td>\n",
       "      <td>Clean rooms with full amenities worth to stay</td>\n",
       "      <td>Staycation</td>\n",
       "      <td>STAYCATION</td>\n",
       "      <td>FAMILY</td>\n",
       "      <td>ENGLISH</td>\n",
       "      <td>True</td>\n",
       "      <td>6</td>\n",
       "      <td>BEDROOM</td>\n",
       "      <td>Staycation</td>\n",
       "    </tr>\n",
       "  </tbody>\n",
       "</table>\n",
       "</div>"
      ],
      "text/plain": [
       "    reviewId      timestamp  profileId reviewerName  overallScore  \\\n",
       "0  127452257  1684722833270  224137865    Hoang N.            9.7   \n",
       "1  126831568  1660817392070  247430533  Thuy Q. N.            9.7   \n",
       "\n",
       "   cleanlinessScore  comfortScore  serviceScore  foodScore  locationScore  \\\n",
       "0              10.0          10.0          10.0        NaN           10.0   \n",
       "1              10.0          10.0           8.0       10.0           10.0   \n",
       "\n",
       "                                  originalReviewText  \\\n",
       "0  Khách sạn rất xinh , vượt ngoài mong đợi của m...   \n",
       "1  Phòng ốc sạch sẽ đầy đủ tiện nghi đáng để lưu trú   \n",
       "\n",
       "                                          reviewText travelThemeDisplayName  \\\n",
       "0  The hotel is very beautiful, beyond my expecta...                Liburan   \n",
       "1      Clean rooms with full amenities worth to stay             Staycation   \n",
       "\n",
       "  travelPurpose travelKeywords language  translated reviewLikes  \\\n",
       "0       LEISURE        FRIENDS  ENGLISH        True           2   \n",
       "1    STAYCATION         FAMILY  ENGLISH        True           6   \n",
       "\n",
       "   photoCategories travelPurposeText  \n",
       "0  BEDROOM,BEDROOM           Liburan  \n",
       "1          BEDROOM        Staycation  "
      ]
     },
     "execution_count": 190,
     "metadata": {},
     "output_type": "execute_result"
    }
   ],
   "source": [
    "the_grace_dalat_reviews[['reviewId','timestamp','profileId','reviewerName','overallScore','cleanlinessScore','comfortScore','serviceScore','foodScore','locationScore',\n",
    "                         'originalReviewText','reviewText','travelThemeDisplayName','travelPurpose','travelKeywords','language','translated','reviewLikes','photoCategories','travelPurposeText']].head(2)"
   ]
  }
 ],
 "metadata": {
  "kernelspec": {
   "display_name": "Python 3",
   "language": "python",
   "name": "python3"
  },
  "language_info": {
   "codemirror_mode": {
    "name": "ipython",
    "version": 3
   },
   "file_extension": ".py",
   "mimetype": "text/x-python",
   "name": "python",
   "nbconvert_exporter": "python",
   "pygments_lexer": "ipython3",
   "version": "3.9.17"
  },
  "orig_nbformat": 4,
  "vscode": {
   "interpreter": {
    "hash": "f9f85f796d01129d0dd105a088854619f454435301f6ffec2fea96ecbd9be4ac"
   }
  }
 },
 "nbformat": 4,
 "nbformat_minor": 2
}
