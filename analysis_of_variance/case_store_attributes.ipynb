{
 "cells": [
  {
   "cell_type": "markdown",
   "metadata": {},
   "source": [
    "### Induction\n",
    "This analysis aims to describe a better physical stores. The stakeholders are able to use the analysis result to figure out what kind of stores they should open in the future."
   ]
  },
  {
   "cell_type": "code",
   "execution_count": 39,
   "metadata": {},
   "outputs": [],
   "source": [
    "import pandas as pd\n",
    "import seaborn as sns\n",
    "import matplotlib.pyplot as plt\n",
    "\n",
    "from scipy.stats import levene, f_oneway\n",
    "from pingouin import welch_anova\n",
    "from scikit_posthocs import posthoc_ttest, posthoc_tamhane"
   ]
  },
  {
   "cell_type": "code",
   "execution_count": 2,
   "metadata": {},
   "outputs": [
    {
     "name": "stdout",
     "output_type": "stream",
     "text": [
      "<class 'pandas.core.frame.DataFrame'>\n",
      "RangeIndex: 118 entries, 0 to 117\n",
      "Data columns (total 7 columns):\n",
      " #   Column           Non-Null Count  Dtype  \n",
      "---  ------           --------------  -----  \n",
      " 0   Store Number     118 non-null    int64  \n",
      " 1   AreaStore        118 non-null    float64\n",
      " 2   Property         118 non-null    object \n",
      " 3   Type             118 non-null    object \n",
      " 4   Old/New          118 non-null    object \n",
      " 5   Checkout Number  106 non-null    float64\n",
      " 6   Revenue          118 non-null    float64\n",
      "dtypes: float64(3), int64(1), object(3)\n",
      "memory usage: 6.6+ KB\n"
     ]
    }
   ],
   "source": [
    "# this dataset is from Kaggle: https://www.kaggle.com/datasets/rouzbeh/stores-dataset/data\n",
    "df = pd.read_csv(\"./data/Stores.csv\", thousands=\",\")\n",
    "df[\"Revenue\"] = df[\"Revenue\"] / (10**6) # make the revenue in million unit\n",
    "df[\"AreaStore\"] = df[\"AreaStore\"] / 1000 # make the area of store in 1000 m2\n",
    "df.info()"
   ]
  },
  {
   "cell_type": "code",
   "execution_count": 3,
   "metadata": {},
   "outputs": [
    {
     "name": "stdout",
     "output_type": "stream",
     "text": [
      "<class 'pandas.core.frame.DataFrame'>\n",
      "RangeIndex: 106 entries, 0 to 105\n",
      "Data columns (total 7 columns):\n",
      " #   Column           Non-Null Count  Dtype  \n",
      "---  ------           --------------  -----  \n",
      " 0   Store Number     106 non-null    int64  \n",
      " 1   AreaStore        106 non-null    float64\n",
      " 2   Property         106 non-null    object \n",
      " 3   Type             106 non-null    object \n",
      " 4   Old/New          106 non-null    object \n",
      " 5   Checkout Number  106 non-null    float64\n",
      " 6   Revenue          106 non-null    float64\n",
      "dtypes: float64(3), int64(1), object(3)\n",
      "memory usage: 5.9+ KB\n"
     ]
    }
   ],
   "source": [
    "# drop rows containing null cells\n",
    "df.dropna(inplace=True)\n",
    "df.reset_index(drop=True, inplace=True)\n",
    "df.info()"
   ]
  },
  {
   "cell_type": "markdown",
   "metadata": {},
   "source": [
    "`106` physical stores have 5 attributes which can divided into 2 groups:\n",
    "- `Categorical` attributes:\n",
    "    - `Property`: store is owned or rented\n",
    "    - `Type`: store's category\n",
    "    - `Old/New`: store is new or old\n",
    "- `Contineous` attributes:\n",
    "    - `AreaStore`: the store's physical area in 1000 m2\n",
    "    - `Checkout Number`: the number of cash registers"
   ]
  },
  {
   "cell_type": "code",
   "execution_count": 4,
   "metadata": {},
   "outputs": [
    {
     "data": {
      "text/plain": [
       "Owned               39\n",
       "Cooperate           24\n",
       "Rental              24\n",
       "Rental/Cooperate    12\n",
       "Rental               5\n",
       "Owned                2\n",
       "Name: Property, dtype: int64"
      ]
     },
     "execution_count": 4,
     "metadata": {},
     "output_type": "execute_result"
    }
   ],
   "source": [
    "# the values of Property is not consistent, let's do some adjustment\n",
    "df[\"Property\"].value_counts()"
   ]
  },
  {
   "cell_type": "code",
   "execution_count": 5,
   "metadata": {},
   "outputs": [
    {
     "data": {
      "text/plain": [
       "Owned               41\n",
       "Rental              29\n",
       "Cooperate           24\n",
       "Rental/Cooperate    12\n",
       "Name: Property, dtype: int64"
      ]
     },
     "execution_count": 5,
     "metadata": {},
     "output_type": "execute_result"
    }
   ],
   "source": [
    "df[[\"Property\",\"Type\",\"Old/New\"]] = df[[\"Property\",\"Type\",\"Old/New\"]].applymap(str.strip)\n",
    "df[\"Property\"].value_counts()"
   ]
  },
  {
   "cell_type": "code",
   "execution_count": 6,
   "metadata": {},
   "outputs": [
    {
     "data": {
      "text/plain": [
       "Express    53\n",
       "Extra      30\n",
       "Hyper      23\n",
       "Name: Type, dtype: int64"
      ]
     },
     "execution_count": 6,
     "metadata": {},
     "output_type": "execute_result"
    }
   ],
   "source": [
    "df[\"Type\"].value_counts()"
   ]
  },
  {
   "cell_type": "code",
   "execution_count": 7,
   "metadata": {},
   "outputs": [
    {
     "data": {
      "text/plain": [
       "New    90\n",
       "Old    16\n",
       "Name: Old/New, dtype: int64"
      ]
     },
     "execution_count": 7,
     "metadata": {},
     "output_type": "execute_result"
    }
   ],
   "source": [
    "df[\"Old/New\"].value_counts()"
   ]
  },
  {
   "cell_type": "code",
   "execution_count": 8,
   "metadata": {},
   "outputs": [
    {
     "data": {
      "text/plain": [
       "<seaborn.axisgrid.PairGrid at 0x1ffdcc82b50>"
      ]
     },
     "execution_count": 8,
     "metadata": {},
     "output_type": "execute_result"
    },
    {
     "data": {
      "image/png": "[encoded data removed]",
      "text/plain": [
       "<Figure size 540x540 with 9 Axes>"
      ]
     },
     "metadata": {
      "needs_background": "light"
     },
     "output_type": "display_data"
    }
   ],
   "source": [
    "# let's see the relationship between AreaStore, Checkout Number vs Revenue\n",
    "sns.pairplot(data=df[[\"AreaStore\",\"Checkout Number\",\"Revenue\"]], corner=True)"
   ]
  },
  {
   "cell_type": "code",
   "execution_count": 9,
   "metadata": {},
   "outputs": [
    {
     "data": {
      "text/plain": [
       "<AxesSubplot: >"
      ]
     },
     "execution_count": 9,
     "metadata": {},
     "output_type": "execute_result"
    },
    {
     "data": {
      "image/png": "[encoded data removed]",
      "text/plain": [
       "<Figure size 432x288 with 2 Axes>"
      ]
     },
     "metadata": {
      "needs_background": "light"
     },
     "output_type": "display_data"
    }
   ],
   "source": [
    "# the Pearson correlation ratio is pretty high\n",
    "sns.heatmap(data=df[[\"AreaStore\",\"Checkout Number\",\"Revenue\"]].corr(method=\"pearson\"), cmap=\"PiYG\", annot=True, vmin=-1, vmax=1, square=True, xticklabels=1, yticklabels=1)"
   ]
  },
  {
   "cell_type": "markdown",
   "metadata": {},
   "source": [
    "It is not fair to compare two stores with the same categorical attributes, but different area in m2 or number of cash registers. Because the larger area in m2 or the more number of cash registers, the higher the revenue.\\\n",
    "This makes me add 2 new columns, which is `the average revenue per 1000 m2` and `the average revenue per 1 cash register`.\n",
    "\n",
    "Now, we will figure out what kind of stores is better."
   ]
  },
  {
   "cell_type": "code",
   "execution_count": 10,
   "metadata": {},
   "outputs": [],
   "source": [
    "df[\"RevenuePerArea\"] = df[\"Revenue\"] / df[\"AreaStore\"]\n",
    "df[\"RevenuePerRegister\"] = df[\"Revenue\"] / df[\"Checkout Number\"]"
   ]
  },
  {
   "cell_type": "markdown",
   "metadata": {},
   "source": [
    "### Variance Test"
   ]
  },
  {
   "cell_type": "code",
   "execution_count": 11,
   "metadata": {},
   "outputs": [],
   "source": [
    "factors = [\"Property\",\"Type\",\"Old/New\"]\n",
    "dependent_list = [\"Revenue\",\"RevenuePerArea\",\"RevenuePerRegister\",\"AreaStore\"]"
   ]
  },
  {
   "cell_type": "code",
   "execution_count": 12,
   "metadata": {},
   "outputs": [],
   "source": [
    "test_of_homogeneity_of_variances = []\n",
    "for factor in factors:\n",
    "    for dependent_var in dependent_list:\n",
    "        arr = df.groupby(factor)[dependent_var].agg(lambda x: list(x)).tolist()\n",
    "        levene_test = levene(*arr, center=\"mean\")\n",
    "        stats, pvalue = levene_test.statistic, levene_test.pvalue\n",
    "        test_of_homogeneity_of_variances.append({\n",
    "            'factor':factor,\n",
    "            'dependent_var':dependent_var,\n",
    "            'statistics': stats,\n",
    "            'pvalue':pvalue\n",
    "        })"
   ]
  },
  {
   "cell_type": "code",
   "execution_count": 13,
   "metadata": {},
   "outputs": [],
   "source": [
    "df_test_of_homogeneity_of_variances = pd.DataFrame(test_of_homogeneity_of_variances)"
   ]
  },
  {
   "cell_type": "code",
   "execution_count": 14,
   "metadata": {},
   "outputs": [
    {
     "data": {
      "text/plain": [
       "False    8\n",
       "True     4\n",
       "Name: accepted, dtype: int64"
      ]
     },
     "execution_count": 14,
     "metadata": {},
     "output_type": "execute_result"
    }
   ],
   "source": [
    "alpha = 0.05 # threshold for the null hypothesis rejected or accepted, if pvalue is greater than alpha, the null hypothesis is accepted\n",
    "df_test_of_homogeneity_of_variances[\"accepted\"] = df_test_of_homogeneity_of_variances[\"pvalue\"] > alpha\n",
    "df_test_of_homogeneity_of_variances.accepted.value_counts()"
   ]
  },
  {
   "cell_type": "markdown",
   "metadata": {},
   "source": [
    "\"The Levene test tests the null hypothesis that all input samples are from populations with equal variance\".\\\n",
    "Therefore, if `pvalue` > `alpha`, the null hypothesis is accepted, which means the factor's values have the equal dependent variable's variance.\n",
    "\n",
    "In this case, there are:\n",
    "- 4 cases accepted: move to the F-test (_The prerequisite is the factor's values have the equal dependent variable's variance_) to test whether the mean of population is different\n",
    "- 8 cases rejected: move to Robust Test (_In case the factor's values have not the equal dependent variable's variance_) to test whether the mean of population is different"
   ]
  },
  {
   "cell_type": "code",
   "execution_count": 15,
   "metadata": {},
   "outputs": [
    {
     "name": "stdout",
     "output_type": "stream",
     "text": [
      "Sample cases for equal variance test\n",
      "Attribute / Factor: Type\n",
      "Dependent variable: RevenuePerRegister\n"
     ]
    },
    {
     "data": {
      "image/png": "[encoded data removed]",
      "text/plain": [
       "<Figure size 1296x432 with 3 Axes>"
      ]
     },
     "metadata": {
      "needs_background": "light"
     },
     "output_type": "display_data"
    }
   ],
   "source": [
    "# the difference between histograms or variance values is pretty small\n",
    "accepted_case = df_test_of_homogeneity_of_variances.query(\"accepted\").sort_values(\"pvalue\", ascending=False).iloc[0]\n",
    "accepted_factor, accepted_dep_var = accepted_case[\"factor\"], accepted_case[\"dependent_var\"]\n",
    "nvals = df[accepted_factor].nunique()\n",
    "\n",
    "print(\"Sample cases for equal variance test\")\n",
    "print(\"Attribute / Factor:\", accepted_factor)\n",
    "print(\"Dependent variable:\", accepted_dep_var)\n",
    "fig, axs = plt.subplots(nrows=1, ncols=nvals, figsize=(nvals*6,6))\n",
    "\n",
    "for idx, subdf in enumerate(df.groupby(accepted_factor)):\n",
    "    ax = axs[idx]\n",
    "    val, temp = subdf\n",
    "    sns.histplot(data=temp, x=accepted_dep_var, element=\"step\", ax=ax)\n",
    "    ax.set_title(val)\n",
    "    ax.set_title(val + \", var=\" + '{:.2f}'.format(temp[accepted_dep_var].var()))"
   ]
  },
  {
   "cell_type": "code",
   "execution_count": 16,
   "metadata": {},
   "outputs": [
    {
     "name": "stdout",
     "output_type": "stream",
     "text": [
      "Sample cases for unequal variance test\n",
      "Attribute / Factor: Type\n",
      "Dependent variable: AreaStore\n"
     ]
    },
    {
     "data": {
      "image/png": "[encoded data removed]",
      "text/plain": [
       "<Figure size 1296x432 with 3 Axes>"
      ]
     },
     "metadata": {
      "needs_background": "light"
     },
     "output_type": "display_data"
    }
   ],
   "source": [
    "# the difference between histograms or variance values is pretty significant\n",
    "rejected_case = df_test_of_homogeneity_of_variances.query(\"~accepted\").sort_values(\"pvalue\").iloc[0]\n",
    "rejected_factor, rejected_dep_var = rejected_case[\"factor\"], rejected_case[\"dependent_var\"]\n",
    "nvals = df[rejected_factor].nunique()\n",
    "\n",
    "print(\"Sample cases for unequal variance test\")\n",
    "print(\"Attribute / Factor:\", rejected_factor)\n",
    "print(\"Dependent variable:\", rejected_dep_var)\n",
    "fig, axs = plt.subplots(nrows=1, ncols=nvals, figsize=(nvals*6,6))\n",
    "\n",
    "for idx, subdf in enumerate(df.groupby(rejected_factor)):\n",
    "    ax = axs[idx]\n",
    "    val, temp = subdf\n",
    "    sns.histplot(data=temp, x=rejected_dep_var, element=\"step\", ax=ax)\n",
    "    ax.set_title(val + \", var=\" + '{:.2f}'.format(temp[rejected_dep_var].var()))"
   ]
  },
  {
   "cell_type": "markdown",
   "metadata": {},
   "source": [
    "### Population Mean Test"
   ]
  },
  {
   "cell_type": "markdown",
   "metadata": {},
   "source": [
    "4 cases with the equal variance test will be continued with F-test to test whether there is the difference between the mean of population"
   ]
  },
  {
   "cell_type": "code",
   "execution_count": 27,
   "metadata": {},
   "outputs": [],
   "source": [
    "f_test = []\n",
    "for row in df_test_of_homogeneity_of_variances.query(\"accepted\").values:\n",
    "    factor, dependent_var = row[0], row[1]\n",
    "    arr = df.groupby(factor)[dependent_var].agg(lambda x: list(x)).to_list()\n",
    "    result = f_oneway(*arr)\n",
    "    stats, pvalue = result.statistic, result.pvalue\n",
    "    f_test.append({\n",
    "        'factor':factor,\n",
    "        'dependent_var':dependent_var,\n",
    "        'statistic':stats,\n",
    "        'pvalue':pvalue\n",
    "    })"
   ]
  },
  {
   "cell_type": "code",
   "execution_count": 30,
   "metadata": {},
   "outputs": [
    {
     "data": {
      "text/html": [
       "<div>\n",
       "<style scoped>\n",
       "    .dataframe tbody tr th:only-of-type {\n",
       "        vertical-align: middle;\n",
       "    }\n",
       "\n",
       "    .dataframe tbody tr th {\n",
       "        vertical-align: top;\n",
       "    }\n",
       "\n",
       "    .dataframe thead th {\n",
       "        text-align: right;\n",
       "    }\n",
       "</style>\n",
       "<table border=\"1\" class=\"dataframe\">\n",
       "  <thead>\n",
       "    <tr style=\"text-align: right;\">\n",
       "      <th></th>\n",
       "      <th>factor</th>\n",
       "      <th>dependent_var</th>\n",
       "      <th>statistic</th>\n",
       "      <th>pvalue</th>\n",
       "      <th>accepted</th>\n",
       "    </tr>\n",
       "  </thead>\n",
       "  <tbody>\n",
       "    <tr>\n",
       "      <th>0</th>\n",
       "      <td>Property</td>\n",
       "      <td>RevenuePerArea</td>\n",
       "      <td>2.361806</td>\n",
       "      <td>0.075708</td>\n",
       "      <td>False</td>\n",
       "    </tr>\n",
       "    <tr>\n",
       "      <th>1</th>\n",
       "      <td>Type</td>\n",
       "      <td>RevenuePerArea</td>\n",
       "      <td>1.223685</td>\n",
       "      <td>0.298384</td>\n",
       "      <td>False</td>\n",
       "    </tr>\n",
       "    <tr>\n",
       "      <th>2</th>\n",
       "      <td>Type</td>\n",
       "      <td>RevenuePerRegister</td>\n",
       "      <td>8.516343</td>\n",
       "      <td>0.000378</td>\n",
       "      <td>True</td>\n",
       "    </tr>\n",
       "    <tr>\n",
       "      <th>3</th>\n",
       "      <td>Old/New</td>\n",
       "      <td>RevenuePerArea</td>\n",
       "      <td>1.201055</td>\n",
       "      <td>0.275642</td>\n",
       "      <td>False</td>\n",
       "    </tr>\n",
       "  </tbody>\n",
       "</table>\n",
       "</div>"
      ],
      "text/plain": [
       "     factor       dependent_var  statistic    pvalue  accepted\n",
       "0  Property      RevenuePerArea   2.361806  0.075708     False\n",
       "1      Type      RevenuePerArea   1.223685  0.298384     False\n",
       "2      Type  RevenuePerRegister   8.516343  0.000378      True\n",
       "3   Old/New      RevenuePerArea   1.201055  0.275642     False"
      ]
     },
     "execution_count": 30,
     "metadata": {},
     "output_type": "execute_result"
    }
   ],
   "source": [
    "# the null hypothesis is two or more groups have the same population mean\n",
    "# if pvalue is less than alpha, the null hypothesis is not able to be rejected\n",
    "# so, there is a difference between groups population mean\n",
    "df_f_test = pd.DataFrame(f_test)\n",
    "df_f_test[\"accepted\"] = df_f_test[\"pvalue\"] < alpha\n",
    "df_f_test"
   ]
  },
  {
   "cell_type": "code",
   "execution_count": 31,
   "metadata": {},
   "outputs": [
    {
     "data": {
      "text/plain": [
       "False    3\n",
       "True     1\n",
       "Name: accepted, dtype: int64"
      ]
     },
     "execution_count": 31,
     "metadata": {},
     "output_type": "execute_result"
    }
   ],
   "source": [
    "# there is only case with difference between groups population mean\n",
    "df_f_test[\"accepted\"].value_counts()"
   ]
  },
  {
   "cell_type": "markdown",
   "metadata": {},
   "source": [
    "8 cases with the unequal variance test will be continued with Robust Test to test whether there is the difference between the mean of population"
   ]
  },
  {
   "cell_type": "code",
   "execution_count": 35,
   "metadata": {},
   "outputs": [],
   "source": [
    "robust_test = []\n",
    "for row in df_test_of_homogeneity_of_variances.query(\"~accepted\").values:\n",
    "    factor, dependent_var = row[0], row[1]\n",
    "    result = welch_anova(data=df, dv=dependent_var, between=factor).iloc[0]\n",
    "    stats, pvalue = result[\"F\"], result[\"p-unc\"]\n",
    "    robust_test.append({\n",
    "        'factor':factor,\n",
    "        'dependent_var':dependent_var,\n",
    "        'statistic':stats,\n",
    "        'pvalue':pvalue\n",
    "    })"
   ]
  },
  {
   "cell_type": "code",
   "execution_count": 36,
   "metadata": {},
   "outputs": [
    {
     "data": {
      "text/html": [
       "<div>\n",
       "<style scoped>\n",
       "    .dataframe tbody tr th:only-of-type {\n",
       "        vertical-align: middle;\n",
       "    }\n",
       "\n",
       "    .dataframe tbody tr th {\n",
       "        vertical-align: top;\n",
       "    }\n",
       "\n",
       "    .dataframe thead th {\n",
       "        text-align: right;\n",
       "    }\n",
       "</style>\n",
       "<table border=\"1\" class=\"dataframe\">\n",
       "  <thead>\n",
       "    <tr style=\"text-align: right;\">\n",
       "      <th></th>\n",
       "      <th>factor</th>\n",
       "      <th>dependent_var</th>\n",
       "      <th>statistic</th>\n",
       "      <th>pvalue</th>\n",
       "      <th>accepted</th>\n",
       "    </tr>\n",
       "  </thead>\n",
       "  <tbody>\n",
       "    <tr>\n",
       "      <th>0</th>\n",
       "      <td>Property</td>\n",
       "      <td>Revenue</td>\n",
       "      <td>17.565578</td>\n",
       "      <td>2.664274e-07</td>\n",
       "      <td>True</td>\n",
       "    </tr>\n",
       "    <tr>\n",
       "      <th>1</th>\n",
       "      <td>Property</td>\n",
       "      <td>RevenuePerRegister</td>\n",
       "      <td>12.910160</td>\n",
       "      <td>4.010167e-06</td>\n",
       "      <td>True</td>\n",
       "    </tr>\n",
       "    <tr>\n",
       "      <th>2</th>\n",
       "      <td>Property</td>\n",
       "      <td>AreaStore</td>\n",
       "      <td>15.100287</td>\n",
       "      <td>1.417051e-06</td>\n",
       "      <td>True</td>\n",
       "    </tr>\n",
       "    <tr>\n",
       "      <th>3</th>\n",
       "      <td>Type</td>\n",
       "      <td>Revenue</td>\n",
       "      <td>43.349435</td>\n",
       "      <td>1.967630e-10</td>\n",
       "      <td>True</td>\n",
       "    </tr>\n",
       "    <tr>\n",
       "      <th>4</th>\n",
       "      <td>Type</td>\n",
       "      <td>AreaStore</td>\n",
       "      <td>141.900549</td>\n",
       "      <td>5.665081e-19</td>\n",
       "      <td>True</td>\n",
       "    </tr>\n",
       "    <tr>\n",
       "      <th>5</th>\n",
       "      <td>Old/New</td>\n",
       "      <td>Revenue</td>\n",
       "      <td>20.360189</td>\n",
       "      <td>3.542336e-05</td>\n",
       "      <td>True</td>\n",
       "    </tr>\n",
       "    <tr>\n",
       "      <th>6</th>\n",
       "      <td>Old/New</td>\n",
       "      <td>RevenuePerRegister</td>\n",
       "      <td>12.766758</td>\n",
       "      <td>1.142828e-03</td>\n",
       "      <td>True</td>\n",
       "    </tr>\n",
       "    <tr>\n",
       "      <th>7</th>\n",
       "      <td>Old/New</td>\n",
       "      <td>AreaStore</td>\n",
       "      <td>24.948206</td>\n",
       "      <td>5.597949e-06</td>\n",
       "      <td>True</td>\n",
       "    </tr>\n",
       "  </tbody>\n",
       "</table>\n",
       "</div>"
      ],
      "text/plain": [
       "     factor       dependent_var   statistic        pvalue  accepted\n",
       "0  Property             Revenue   17.565578  2.664274e-07      True\n",
       "1  Property  RevenuePerRegister   12.910160  4.010167e-06      True\n",
       "2  Property           AreaStore   15.100287  1.417051e-06      True\n",
       "3      Type             Revenue   43.349435  1.967630e-10      True\n",
       "4      Type           AreaStore  141.900549  5.665081e-19      True\n",
       "5   Old/New             Revenue   20.360189  3.542336e-05      True\n",
       "6   Old/New  RevenuePerRegister   12.766758  1.142828e-03      True\n",
       "7   Old/New           AreaStore   24.948206  5.597949e-06      True"
      ]
     },
     "execution_count": 36,
     "metadata": {},
     "output_type": "execute_result"
    }
   ],
   "source": [
    "# the null hypothesis is two or more groups have the same population mean\n",
    "# if pvalue is less than alpha, the null hypothesis is not able to be rejected\n",
    "# so, there is a difference between groups population mean\n",
    "df_robust_test = pd.DataFrame(robust_test)\n",
    "df_robust_test[\"accepted\"] = df_robust_test[\"pvalue\"] < alpha\n",
    "df_robust_test"
   ]
  },
  {
   "cell_type": "code",
   "execution_count": 38,
   "metadata": {},
   "outputs": [
    {
     "data": {
      "text/plain": [
       "True    8\n",
       "Name: accepted, dtype: int64"
      ]
     },
     "execution_count": 38,
     "metadata": {},
     "output_type": "execute_result"
    }
   ],
   "source": [
    "# all 8 cases are accepted to have difference between groups population mean\n",
    "df_robust_test.accepted.value_counts()"
   ]
  },
  {
   "cell_type": "markdown",
   "metadata": {},
   "source": [
    "### Determine which group is greater/less than others\n",
    "\n",
    "So, there are 9 cases with different population mean between groups, including:\n",
    "- 1 case has the same population variance: using LSD post-hoc test to find which group is greater/less than others"
   ]
  },
  {
   "cell_type": "code",
   "execution_count": 58,
   "metadata": {},
   "outputs": [],
   "source": [
    "df_lsd_test = pd.DataFrame()\n",
    "for row in df_f_test.query(\"accepted\").values:\n",
    "    factor, dependent_var = row[0], row[1]\n",
    "    result = posthoc_ttest(a=df, val_col=dependent_var, group_col=factor, pool_sd=True)\n",
    "    result = result.reset_index().melt(id_vars=\"index\", value_vars=result.columns, var_name=\"group2\", value_name=\"pvalue\")\n",
    "    result.rename(columns={\"index\":\"group1\"}, inplace=True)\n",
    "    mean_gr = df.groupby(factor, as_index=False)[dependent_var].mean()\n",
    "    result = result.merge(mean_gr.rename(columns={factor:\"group1\",dependent_var:\"mean_gr1\"}))\n",
    "    result = result.merge(mean_gr.rename(columns={factor:\"group2\",dependent_var:\"mean_gr2\"}))\n",
    "    result = result[\n",
    "        (result[\"pvalue\"] < alpha) &\n",
    "        (result[\"mean_gr1\"] > result[\"mean_gr2\"])\n",
    "    ]\n",
    "    result[[\"factor\", \"dependent_var\"]] = [factor,dependent_var]\n",
    "    df_lsd_test = pd.concat([df_lsd_test, result])"
   ]
  },
  {
   "cell_type": "markdown",
   "metadata": {},
   "source": [
    "- 8 cases have the different population variance: using Tamhane test to find which group is greater/less than others"
   ]
  },
  {
   "cell_type": "code",
   "execution_count": 61,
   "metadata": {},
   "outputs": [],
   "source": [
    "df_tamhane_test = pd.DataFrame()\n",
    "for row in df_robust_test.query(\"accepted\").values:\n",
    "    factor, dependent_var = row[0], row[1]\n",
    "    result = posthoc_tamhane(a=df, val_col=dependent_var, group_col=factor)\n",
    "    result = result.reset_index().melt(id_vars=\"index\", value_vars=result.columns, var_name=\"group2\", value_name=\"pvalue\")\n",
    "    result.rename(columns={\"index\":\"group1\"}, inplace=True)\n",
    "    mean_gr = df.groupby(factor, as_index=False)[dependent_var].mean()\n",
    "    result = result.merge(mean_gr.rename(columns={factor:\"group1\",dependent_var:\"mean_gr1\"}))\n",
    "    result = result.merge(mean_gr.rename(columns={factor:\"group2\",dependent_var:\"mean_gr2\"}))\n",
    "    result = result[\n",
    "        (result[\"pvalue\"] < alpha) &\n",
    "        (result[\"mean_gr1\"] > result[\"mean_gr2\"])\n",
    "    ]\n",
    "    result[[\"factor\", \"dependent_var\"]] = [factor,dependent_var]\n",
    "    df_tamhane_test = pd.concat([df_tamhane_test, result])"
   ]
  },
  {
   "cell_type": "code",
   "execution_count": 79,
   "metadata": {},
   "outputs": [
    {
     "data": {
      "text/html": [
       "<div>\n",
       "<style scoped>\n",
       "    .dataframe tbody tr th:only-of-type {\n",
       "        vertical-align: middle;\n",
       "    }\n",
       "\n",
       "    .dataframe tbody tr th {\n",
       "        vertical-align: top;\n",
       "    }\n",
       "\n",
       "    .dataframe thead th {\n",
       "        text-align: right;\n",
       "    }\n",
       "</style>\n",
       "<table border=\"1\" class=\"dataframe\">\n",
       "  <thead>\n",
       "    <tr style=\"text-align: right;\">\n",
       "      <th></th>\n",
       "      <th>group1</th>\n",
       "      <th>group2</th>\n",
       "      <th>pvalue</th>\n",
       "      <th>mean_gr1</th>\n",
       "      <th>mean_gr2</th>\n",
       "      <th>factor</th>\n",
       "      <th>dependent_var</th>\n",
       "    </tr>\n",
       "  </thead>\n",
       "  <tbody>\n",
       "    <tr>\n",
       "      <th>0</th>\n",
       "      <td>New</td>\n",
       "      <td>Old</td>\n",
       "      <td>1.119587e-05</td>\n",
       "      <td>1.406122</td>\n",
       "      <td>0.658423</td>\n",
       "      <td>Old/New</td>\n",
       "      <td>AreaStore</td>\n",
       "    </tr>\n",
       "    <tr>\n",
       "      <th>1</th>\n",
       "      <td>Owned</td>\n",
       "      <td>Cooperate</td>\n",
       "      <td>1.719658e-07</td>\n",
       "      <td>1.921195</td>\n",
       "      <td>0.758032</td>\n",
       "      <td>Property</td>\n",
       "      <td>AreaStore</td>\n",
       "    </tr>\n",
       "    <tr>\n",
       "      <th>2</th>\n",
       "      <td>Owned</td>\n",
       "      <td>Rental</td>\n",
       "      <td>1.661528e-06</td>\n",
       "      <td>1.921195</td>\n",
       "      <td>0.746690</td>\n",
       "      <td>Property</td>\n",
       "      <td>AreaStore</td>\n",
       "    </tr>\n",
       "    <tr>\n",
       "      <th>3</th>\n",
       "      <td>Extra</td>\n",
       "      <td>Express</td>\n",
       "      <td>0.000000e+00</td>\n",
       "      <td>1.423133</td>\n",
       "      <td>0.555845</td>\n",
       "      <td>Type</td>\n",
       "      <td>AreaStore</td>\n",
       "    </tr>\n",
       "    <tr>\n",
       "      <th>4</th>\n",
       "      <td>Hyper</td>\n",
       "      <td>Extra</td>\n",
       "      <td>1.012083e-06</td>\n",
       "      <td>2.823130</td>\n",
       "      <td>1.423133</td>\n",
       "      <td>Type</td>\n",
       "      <td>AreaStore</td>\n",
       "    </tr>\n",
       "    <tr>\n",
       "      <th>5</th>\n",
       "      <td>Hyper</td>\n",
       "      <td>Express</td>\n",
       "      <td>1.978128e-10</td>\n",
       "      <td>2.823130</td>\n",
       "      <td>0.555845</td>\n",
       "      <td>Type</td>\n",
       "      <td>AreaStore</td>\n",
       "    </tr>\n",
       "    <tr>\n",
       "      <th>6</th>\n",
       "      <td>New</td>\n",
       "      <td>Old</td>\n",
       "      <td>7.084547e-05</td>\n",
       "      <td>25.261733</td>\n",
       "      <td>10.931250</td>\n",
       "      <td>Old/New</td>\n",
       "      <td>Revenue</td>\n",
       "    </tr>\n",
       "    <tr>\n",
       "      <th>7</th>\n",
       "      <td>Owned</td>\n",
       "      <td>Cooperate</td>\n",
       "      <td>1.205685e-08</td>\n",
       "      <td>39.111134</td>\n",
       "      <td>11.221000</td>\n",
       "      <td>Property</td>\n",
       "      <td>Revenue</td>\n",
       "    </tr>\n",
       "    <tr>\n",
       "      <th>8</th>\n",
       "      <td>Owned</td>\n",
       "      <td>Rental</td>\n",
       "      <td>9.802822e-08</td>\n",
       "      <td>39.111134</td>\n",
       "      <td>12.554103</td>\n",
       "      <td>Property</td>\n",
       "      <td>Revenue</td>\n",
       "    </tr>\n",
       "    <tr>\n",
       "      <th>9</th>\n",
       "      <td>Owned</td>\n",
       "      <td>Rental/Cooperate</td>\n",
       "      <td>3.427845e-03</td>\n",
       "      <td>39.111134</td>\n",
       "      <td>17.627208</td>\n",
       "      <td>Property</td>\n",
       "      <td>Revenue</td>\n",
       "    </tr>\n",
       "    <tr>\n",
       "      <th>10</th>\n",
       "      <td>Extra</td>\n",
       "      <td>Express</td>\n",
       "      <td>5.500914e-04</td>\n",
       "      <td>24.521550</td>\n",
       "      <td>10.703604</td>\n",
       "      <td>Type</td>\n",
       "      <td>Revenue</td>\n",
       "    </tr>\n",
       "    <tr>\n",
       "      <th>11</th>\n",
       "      <td>Hyper</td>\n",
       "      <td>Extra</td>\n",
       "      <td>1.032629e-04</td>\n",
       "      <td>49.805152</td>\n",
       "      <td>24.521550</td>\n",
       "      <td>Type</td>\n",
       "      <td>Revenue</td>\n",
       "    </tr>\n",
       "    <tr>\n",
       "      <th>12</th>\n",
       "      <td>Hyper</td>\n",
       "      <td>Express</td>\n",
       "      <td>2.537785e-08</td>\n",
       "      <td>49.805152</td>\n",
       "      <td>10.703604</td>\n",
       "      <td>Type</td>\n",
       "      <td>Revenue</td>\n",
       "    </tr>\n",
       "    <tr>\n",
       "      <th>13</th>\n",
       "      <td>New</td>\n",
       "      <td>Old</td>\n",
       "      <td>2.284350e-03</td>\n",
       "      <td>4.711273</td>\n",
       "      <td>3.137823</td>\n",
       "      <td>Old/New</td>\n",
       "      <td>RevenuePerRegister</td>\n",
       "    </tr>\n",
       "    <tr>\n",
       "      <th>14</th>\n",
       "      <td>Owned</td>\n",
       "      <td>Cooperate</td>\n",
       "      <td>2.128502e-06</td>\n",
       "      <td>6.020971</td>\n",
       "      <td>3.409344</td>\n",
       "      <td>Property</td>\n",
       "      <td>RevenuePerRegister</td>\n",
       "    </tr>\n",
       "    <tr>\n",
       "      <th>15</th>\n",
       "      <td>Owned</td>\n",
       "      <td>Rental</td>\n",
       "      <td>2.103917e-04</td>\n",
       "      <td>6.020971</td>\n",
       "      <td>3.713533</td>\n",
       "      <td>Property</td>\n",
       "      <td>RevenuePerRegister</td>\n",
       "    </tr>\n",
       "    <tr>\n",
       "      <th>16</th>\n",
       "      <td>Owned</td>\n",
       "      <td>Rental/Cooperate</td>\n",
       "      <td>2.063479e-04</td>\n",
       "      <td>6.020971</td>\n",
       "      <td>3.153604</td>\n",
       "      <td>Property</td>\n",
       "      <td>RevenuePerRegister</td>\n",
       "    </tr>\n",
       "    <tr>\n",
       "      <th>17</th>\n",
       "      <td>Extra</td>\n",
       "      <td>Express</td>\n",
       "      <td>3.292042e-03</td>\n",
       "      <td>4.281956</td>\n",
       "      <td>3.873233</td>\n",
       "      <td>Type</td>\n",
       "      <td>RevenuePerRegister</td>\n",
       "    </tr>\n",
       "    <tr>\n",
       "      <th>18</th>\n",
       "      <td>Hyper</td>\n",
       "      <td>Express</td>\n",
       "      <td>8.641255e-05</td>\n",
       "      <td>6.107813</td>\n",
       "      <td>3.873233</td>\n",
       "      <td>Type</td>\n",
       "      <td>RevenuePerRegister</td>\n",
       "    </tr>\n",
       "  </tbody>\n",
       "</table>\n",
       "</div>"
      ],
      "text/plain": [
       "   group1            group2        pvalue   mean_gr1   mean_gr2    factor  \\\n",
       "0     New               Old  1.119587e-05   1.406122   0.658423   Old/New   \n",
       "1   Owned         Cooperate  1.719658e-07   1.921195   0.758032  Property   \n",
       "2   Owned            Rental  1.661528e-06   1.921195   0.746690  Property   \n",
       "3   Extra           Express  0.000000e+00   1.423133   0.555845      Type   \n",
       "4   Hyper             Extra  1.012083e-06   2.823130   1.423133      Type   \n",
       "5   Hyper           Express  1.978128e-10   2.823130   0.555845      Type   \n",
       "6     New               Old  7.084547e-05  25.261733  10.931250   Old/New   \n",
       "7   Owned         Cooperate  1.205685e-08  39.111134  11.221000  Property   \n",
       "8   Owned            Rental  9.802822e-08  39.111134  12.554103  Property   \n",
       "9   Owned  Rental/Cooperate  3.427845e-03  39.111134  17.627208  Property   \n",
       "10  Extra           Express  5.500914e-04  24.521550  10.703604      Type   \n",
       "11  Hyper             Extra  1.032629e-04  49.805152  24.521550      Type   \n",
       "12  Hyper           Express  2.537785e-08  49.805152  10.703604      Type   \n",
       "13    New               Old  2.284350e-03   4.711273   3.137823   Old/New   \n",
       "14  Owned         Cooperate  2.128502e-06   6.020971   3.409344  Property   \n",
       "15  Owned            Rental  2.103917e-04   6.020971   3.713533  Property   \n",
       "16  Owned  Rental/Cooperate  2.063479e-04   6.020971   3.153604  Property   \n",
       "17  Extra           Express  3.292042e-03   4.281956   3.873233      Type   \n",
       "18  Hyper           Express  8.641255e-05   6.107813   3.873233      Type   \n",
       "\n",
       "         dependent_var  \n",
       "0            AreaStore  \n",
       "1            AreaStore  \n",
       "2            AreaStore  \n",
       "3            AreaStore  \n",
       "4            AreaStore  \n",
       "5            AreaStore  \n",
       "6              Revenue  \n",
       "7              Revenue  \n",
       "8              Revenue  \n",
       "9              Revenue  \n",
       "10             Revenue  \n",
       "11             Revenue  \n",
       "12             Revenue  \n",
       "13  RevenuePerRegister  \n",
       "14  RevenuePerRegister  \n",
       "15  RevenuePerRegister  \n",
       "16  RevenuePerRegister  \n",
       "17  RevenuePerRegister  \n",
       "18  RevenuePerRegister  "
      ]
     },
     "execution_count": 79,
     "metadata": {},
     "output_type": "execute_result"
    }
   ],
   "source": [
    "df_comparison_test = pd.concat([df_lsd_test, df_tamhane_test])\n",
    "df_comparison_test.sort_values([\"dependent_var\",\"factor\",\"group1\"], inplace=True)\n",
    "df_comparison_test.reset_index(drop=True, inplace=True)\n",
    "df_comparison_test"
   ]
  },
  {
   "cell_type": "markdown",
   "metadata": {},
   "source": [
    "### Conclusion\n",
    "Now, we can realize the difference between groups in details.\n",
    "- For the store area:\n",
    "    - Old/New: NEW > OLD\n",
    "    - Property: OWNED > RENTAL, COOPERATE\n",
    "    - Type: HYPER > EXTRA > EXPRESS\n",
    "\n",
    "- For total revenue:\n",
    "    - Old/New: NEW > OLD\n",
    "    - Property: OWNED > RENTAL, COOPERATE, RENTAL/COOPERATE\n",
    "    - Type: HYPER > EXTRA, EXPRESS\n",
    "\n",
    "However, as shared above, it is unfair when the store has more cash registers or wider area. We should use the revenue per register or area.\n",
    "- For the revenue per cash register:\n",
    "    - Old/New: NEW > OLD\n",
    "    - Property: OWNED > RENTAL, COOPERATE, RENTAL/COOPERATE\n",
    "    - Type: HYPER, EXTRA > EXPRESS"
   ]
  }
 ],
 "metadata": {
  "kernelspec": {
   "display_name": "Python 3",
   "language": "python",
   "name": "python3"
  },
  "language_info": {
   "codemirror_mode": {
    "name": "ipython",
    "version": 3
   },
   "file_extension": ".py",
   "mimetype": "text/x-python",
   "name": "python",
   "nbconvert_exporter": "python",
   "pygments_lexer": "ipython3",
   "version": "3.9.13"
  }
 },
 "nbformat": 4,
 "nbformat_minor": 2
}
